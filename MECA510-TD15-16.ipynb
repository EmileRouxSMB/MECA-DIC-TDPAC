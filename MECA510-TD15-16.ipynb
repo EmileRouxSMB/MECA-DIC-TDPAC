{
 "cells": [
  {
   "cell_type": "markdown",
   "metadata": {},
   "source": [
    "# TD 15 - 16 : MECA511\n",
    "## Analyse d'un champ de déplacement mesurée expérimentalement par corrélation d'images\n",
    "\n",
    "### Objectif :\n",
    "Les mesures expérimentales par corrélation d'image permettent d'obtenir le champ de déplacement à la surface d'un objet soumis à une sollicitation mécanique.\n",
    "Dans ces 2 TDs nous allons :\n",
    "1. Analyser un champ de déplacement mesuré expérimentalement par corrélation d'images\n",
    "2. Déterminer les déformations à partir de ce champ de déplacement\n",
    "3. Calculer les contraintes à partir des déformations en faisant l'hypothèse d'un matériau isotrope linéaire élastique\n",
    "4. Estimer l'effort de traction appliqué sur l'éprouvette\n",
    "5. Vérifier si l'état de contrainte respecte les équations d'équilibre locales\n",
    "\n",
    "### Contexte :\n",
    "Le travail proposé en TD est inspiré de l'article : J.-C. Passieux, F. Bugarin, C. David, J.-N. Périé, L. Robert, Multiscale Displacement Field Measurement Using Digital Image Correlation: Application to the Identification of Elastic Properties, Exp Mech 55 (2015) 121–137. Une copie de l'article est jointe à ce notebbok."
   ]
  },
  {
   "cell_type": "markdown",
   "metadata": {},
   "source": [
    "### Installation des librairies\n",
    "Pour installer les librairies nécessaires pour ce TD, exécuter la cellule suivante, puis redémarrer le kernel."
   ]
  },
  {
   "cell_type": "code",
   "execution_count": null,
   "metadata": {},
   "outputs": [],
   "source": [
    "#pip install git+https://gitlab.com/symmehub/py7DPost"
   ]
  },
  {
   "cell_type": "code",
   "execution_count": 1,
   "metadata": {},
   "outputs": [],
   "source": [
    "import numpy as np\n",
    "import matplotlib.pyplot as plt\n",
    "import py7DPost.core as py7D\n",
    "%matplotlib ipympl\n"
   ]
  },
  {
   "cell_type": "markdown",
   "metadata": {},
   "source": [
    "### Fonction de dérivation numérique\n",
    "Si l'on souhaite calculer la dérivée de $u_x(x,y)$ par rapport à $x$ on peut utiliser les fonctions suivantes :\n",
    "```python\n",
    "dux_dx = diff_x(ux)\n",
    "```\n",
    "de même pour la dérivée par rapport à $y$\n",
    "```python\n",
    "dux_dy = diff_y(ux)\n",
    "```"
   ]
  },
  {
   "cell_type": "code",
   "execution_count": 3,
   "metadata": {},
   "outputs": [],
   "source": [
    "def diff_x(V):\n",
    "    return np.gradient(V, X[0],axis=1)\n",
    "\n",
    "def diff_y(V):\n",
    "    return np.gradient(V, Y[:,1],axis=0)\n"
   ]
  },
  {
   "cell_type": "markdown",
   "metadata": {},
   "source": [
    "### Import des données expérimentales de mesure du champ de déplacement"
   ]
  },
  {
   "cell_type": "code",
   "execution_count": null,
   "metadata": {},
   "outputs": [],
   "source": [
    "data = py7D.read7DData('data\\DIC_data.mat')\n",
    "\n",
    "# convert dictionary data to variable\n",
    "pix2mm = data[\"pix2mm\"]\n",
    "X_pix = data['X'] \n",
    "Y_pix = data['Y']\n",
    "X = X_pix * pix2mm\n",
    "Y = Y_pix * pix2mm\n",
    "ux = data['dx'][-1] * pix2mm\n",
    "uy = data['dy'][-1] * pix2mm"
   ]
  },
  {
   "cell_type": "markdown",
   "metadata": {},
   "source": [
    "### Import de l'image de l'éprouvette en configuration déformée\n"
   ]
  },
  {
   "cell_type": "code",
   "execution_count": 5,
   "metadata": {},
   "outputs": [],
   "source": [
    "path_img = 'data\\ohtcfrp_11.tif'\n",
    "img = plt.imread(path_img)[::-1]\n"
   ]
  },
  {
   "cell_type": "markdown",
   "metadata": {},
   "source": [
    "### Tracée des champs de déplacement"
   ]
  },
  {
   "cell_type": "code",
   "execution_count": null,
   "metadata": {},
   "outputs": [],
   "source": [
    "cmap = plt.cm.RdPu\n",
    "fig, axes = plt.subplots(1, 2, figsize=(12, 6))\n",
    "\n",
    "# Plot ux\n",
    "axes[0].imshow(img, origin='lower')\n",
    "cax1 = axes[0].contourf(X_pix, Y_pix, ux, cmap=cmap)\n",
    "axes[0].set_title('Ux [mm]')\n",
    "fig.colorbar(cax1, ax=axes[0])\n",
    "\n",
    "# Plot uy\n",
    "axes[1].imshow(img, origin='lower')\n",
    "cax2 = axes[1].contourf(X_pix, Y_pix, uy, cmap=cmap)\n",
    "axes[1].set_title('Uy [mm]')\n",
    "fig.colorbar(cax2, ax=axes[1])\n",
    "plt.tight_layout()\n",
    "plt.show()"
   ]
  },
  {
   "cell_type": "markdown",
   "metadata": {},
   "source": [
    "## Q1 : Calcul des déformations\n",
    "Sur la base des champs de déplacement mesurés, calculer les déformations $\\varepsilon_{xx}$, $\\varepsilon_{yy}$ et $\\varepsilon_{xy}$.\n",
    "\n",
    "Pour cela appuyez-vous sur les fonctions de dérivation numérique définie plus haut.\n"
   ]
  },
  {
   "cell_type": "code",
   "execution_count": 7,
   "metadata": {},
   "outputs": [],
   "source": [
    "# TODO\n",
    "exx = np.zeros_like(ux)\n",
    "eyy = np.zeros_like(ux)\n",
    "exy = np.zeros_like(ux)"
   ]
  },
  {
   "cell_type": "markdown",
   "metadata": {},
   "source": [
    "### Tracée des champs de déformation"
   ]
  },
  {
   "cell_type": "code",
   "execution_count": null,
   "metadata": {},
   "outputs": [],
   "source": [
    "fig, axes = plt.subplots(1, 3)\n",
    "\n",
    "# Plot exx\n",
    "axes[0].imshow(img, origin='lower')\n",
    "cax1 = axes[0].contourf(X_pix, Y_pix, exx, cmap=cmap)\n",
    "axes[0].set_title('$\\epsilon_{xx}$')\n",
    "fig.colorbar(cax1, ax=axes[0])\n",
    "\n",
    "# Plot eyy\n",
    "axes[1].imshow(img, origin='lower')\n",
    "cax2 = axes[1].contourf(X_pix, Y_pix, eyy, cmap=cmap)\n",
    "axes[1].set_title('$\\epsilon_{yy}$')\n",
    "fig.colorbar(cax2, ax=axes[1])\n",
    "\n",
    "# Plot exy\n",
    "axes[2].imshow(img, origin='lower')\n",
    "cax3 = axes[2].contourf(X_pix, Y_pix, exy, cmap=cmap)\n",
    "axes[2].set_title('$\\epsilon_{xy}$')\n",
    "fig.colorbar(cax3, ax=axes[2])\n",
    "plt.tight_layout()\n",
    "plt.show()"
   ]
  },
  {
   "cell_type": "markdown",
   "metadata": {},
   "source": [
    "## Q2 : Calcul de la déformation normale suivant z\n",
    "En supposant que :\n",
    "- l'éprouvette est mince,\n",
    "- et le matériau est isotrope élastique\n",
    "\n",
    "Calculer la déformation normale suivant z $\\varepsilon_{zz}$.\n",
    "\n",
    "On prendra $E = 21 GPa$ et $\\nu = 0.15$."
   ]
  },
  {
   "cell_type": "code",
   "execution_count": 10,
   "metadata": {},
   "outputs": [],
   "source": [
    "# TODO\n",
    "\n",
    "ezz = np.zeros_like(ux)"
   ]
  },
  {
   "cell_type": "markdown",
   "metadata": {},
   "source": [
    "### Trace du champ de déformation normale suivant z"
   ]
  },
  {
   "cell_type": "code",
   "execution_count": null,
   "metadata": {},
   "outputs": [],
   "source": [
    "plt.figure()\n",
    "plt.imshow(img)\n",
    "plt.contourf(X_pix,Y_pix,ezz, cmap=cmap)\n",
    "plt.title('$\\epsilon_{zz}$')\n",
    "plt.colorbar()\n",
    "plt.show()"
   ]
  },
  {
   "cell_type": "markdown",
   "metadata": {},
   "source": [
    "## Q3 : Calcul du tenseur des contraintes\n",
    "En appliquant l'hypothèse de contrainte plane et la loi de Hooke, calculer le tenseur des contraintes $\\sigma_{xx}$, $\\sigma_{yy}$ et $\\sigma_{xy}$."
   ]
  },
  {
   "cell_type": "code",
   "execution_count": null,
   "metadata": {},
   "outputs": [],
   "source": [
    "# TODO\n",
    "sigxx = np.zeros_like(ux)\n",
    "sigyy = np.zeros_like(ux)\n",
    "sigxy = np.zeros_like(ux)\n"
   ]
  },
  {
   "cell_type": "code",
   "execution_count": null,
   "metadata": {},
   "outputs": [],
   "source": [
    "fig, axes = plt.subplots(1, 3)\n",
    "\n",
    "# Plot sigxx\n",
    "axes[0].imshow(img, origin='lower')\n",
    "cax1 = axes[0].contourf(X_pix, Y_pix, sigxx, cmap=cmap)\n",
    "axes[0].set_title('$\\sigma_{xx}$')\n",
    "fig.colorbar(cax1, ax=axes[0])\n",
    "\n",
    "# Plot sigyy\n",
    "axes[1].imshow(img, origin='lower')\n",
    "cax2 = axes[1].contourf(X_pix, Y_pix, sigyy, cmap=cmap)\n",
    "axes[1].set_title('$\\sigma_{yy}$')\n",
    "fig.colorbar(cax2, ax=axes[1])\n",
    "\n",
    "# Plot sigxy\n",
    "axes[2].imshow(img, origin='lower')\n",
    "cax3 = axes[2].contourf(X_pix, Y_pix, sigxy, cmap=cmap)\n",
    "axes[2].set_title('$\\sigma_{xy}$')\n",
    "fig.colorbar(cax3, ax=axes[2])\n",
    "plt.tight_layout()\n",
    "plt.show()"
   ]
  },
  {
   "cell_type": "markdown",
   "metadata": {},
   "source": [
    "## Q4 : Intégration des contraintes et calcul de la force de traction suivant y en haut de l'éprouvette\n",
    "En intégrant les contraintes suivant x, calculer la force de traction appliquée sur l'éprouvette.\n",
    "\n",
    "On répètera ce calcul sur une coupure fictive en haut puis en bas de l'éprouvette.\n",
    "\n",
    "Ces valeurs doivent être égales, pourquoi ?\n",
    "Le sont-elles ? Si non, pourquoi ?\n",
    "\n",
    "L'épaisseur de l'éprouvette est de 1.26 mm."
   ]
  },
  {
   "cell_type": "code",
   "execution_count": 16,
   "metadata": {},
   "outputs": [],
   "source": [
    "# TODO\n",
    "Fy_haut = 0. \n",
    "Fy_bas = 0."
   ]
  },
  {
   "cell_type": "markdown",
   "metadata": {},
   "source": [
    "## Q5 : Équilibre local\n",
    "On souhaite vérifier si l'état de contrainte respecte les équations d'équilibre locales.\n",
    "$$\n",
    "\\vec{div}(\\sigma) + \\vec f = \\vec 0\n",
    "$$\n",
    "Ici on néglige les forces de volume, donc :\n",
    "$$\n",
    "\\vec{div}(\\sigma) = \\vec 0\n",
    "$$\n",
    "\n",
    "\n",
    "Que pensez-vous des valeurs obtenues de $\\vec{div}(\\sigma)$ ?\n",
    "\n",
    "Que peut-on en conclure ? Quelles sont les pistes d'amélioration ?"
   ]
  },
  {
   "cell_type": "code",
   "execution_count": 18,
   "metadata": {},
   "outputs": [],
   "source": [
    "# TODO\n",
    "\n",
    "\n",
    "# composanates de div sigma\n",
    "div_x = np.zeros_like(ux)\n",
    "div_y = np.zeros_like(ux)"
   ]
  },
  {
   "cell_type": "markdown",
   "metadata": {},
   "source": [
    "### Trace des composantes de $\\vec{div}(\\sigma)$"
   ]
  },
  {
   "cell_type": "code",
   "execution_count": null,
   "metadata": {},
   "outputs": [],
   "source": [
    "fig, axes = plt.subplots(1, 2)\n",
    "\n",
    "# Plot div_x\n",
    "axes[0].imshow(img, origin='lower')\n",
    "cax1 = axes[0].contourf(X_pix, Y_pix, div_x)\n",
    "axes[0].set_title('div_x')\n",
    "fig.colorbar(cax1, ax=axes[0])\n",
    "\n",
    "# Plot div_y\n",
    "axes[1].imshow(img, origin='lower')\n",
    "cax2 = axes[1].contourf(X_pix, Y_pix, div_y)\n",
    "axes[1].set_title('div_y')\n",
    "fig.colorbar(cax2, ax=axes[1])\n",
    "\n",
    "plt.show()"
   ]
  },
  {
   "cell_type": "markdown",
   "metadata": {},
   "source": [
    "## Q6 : avec une loi de comportement plus riche\n",
    "\n",
    "\n",
    "D'après l'article, le matériau est orthotrope, et non isotrope avec les propriétés suivantes :\n",
    "\n",
    "$E_y$ = 20 Gpa\n",
    "\n",
    "$E_x$ = 14 GPa\n",
    "\n",
    "$\\nu_{xy}$ = 0.3\n",
    "\n",
    "$G_{xy}$ = 2 Gpa\n",
    "\n",
    "Loi élastique orthotrope linéaire (ref : https://help.solidworks.com/2021/english/solidworks/cworks/c_Linear_Elastic_Orthotropic.htm) dans le cas de contrainte plane s'exprime :\n",
    "$$\n",
    "\\begin{bmatrix}\n",
    "\\sigma_{xx} \\\\\n",
    "\\sigma_{yy} \\\\\n",
    "\\sigma_{xy}\n",
    "\\end{bmatrix}\n",
    "=\n",
    "\\begin{bmatrix}\n",
    "\\frac{E_y}{1 - \\nu_{yx} \\nu_{xy}} & \\frac{\\nu_{yx} E_x}{1 - \\nu_{yx} \\nu_{xy}} & 0 \\\\\n",
    "\\frac{\\nu_{xy} E_y}{1 - \\nu_{yx} \\nu_{xy}} & \\frac{E_x}{1 - \\nu_{yx} \\nu_{xy}} & 0 \\\\\n",
    "0 & 0 & 2G_{yx}\n",
    "\\end{bmatrix}\n",
    "\\begin{bmatrix}\n",
    "\\varepsilon_{xx} \\\\\n",
    "\\varepsilon_{yy} \\\\\n",
    "\\varepsilon_{xy}\n",
    "\\end{bmatrix}.\n",
    "$$\n",
    "\n",
    "\n",
    "\n",
    "- Recaluler les contraint avec cette nouvelle hypothèse\n",
    "- Recalculer la force de traction\n",
    "- Recalculer $\\vec{div}(\\sigma)$\n",
    "- Que pensez-vous des valeurs obtenues de $\\vec{div}(\\sigma)$ ?"
   ]
  },
  {
   "cell_type": "code",
   "execution_count": 21,
   "metadata": {},
   "outputs": [],
   "source": [
    "# TODO\n"
   ]
  },
  {
   "cell_type": "markdown",
   "metadata": {},
   "source": [
    "### Trace des composante de $\\vec{div}(\\sigma)$"
   ]
  },
  {
   "cell_type": "code",
   "execution_count": null,
   "metadata": {},
   "outputs": [],
   "source": [
    "fig, axes = plt.subplots(1, 2)\n",
    "\n",
    "# Plot div_x\n",
    "axes[0].imshow(img, origin='lower')\n",
    "cax1 = axes[0].contourf(X_pix, Y_pix, div_x)\n",
    "axes[0].set_title('div_x')\n",
    "fig.colorbar(cax1, ax=axes[0])\n",
    "\n",
    "# Plot div_y\n",
    "axes[1].imshow(img, origin='lower')\n",
    "cax2 = axes[1].contourf(X_pix, Y_pix, div_y)\n",
    "axes[1].set_title('div_y')\n",
    "fig.colorbar(cax2, ax=axes[1])\n",
    "\n",
    "plt.show()"
   ]
  },
  {
   "cell_type": "markdown",
   "metadata": {},
   "source": [
    "## Q7 : Contrainte et direction principales\n",
    "Calculer les contraintes et les directions principales."
   ]
  },
  {
   "cell_type": "code",
   "execution_count": 25,
   "metadata": {},
   "outputs": [],
   "source": [
    "Sig_I = np.zeros_like(ux)\n",
    "Sig_II = np.zeros_like(ux)\n",
    "Theta_I = np.zeros_like(ux)\n"
   ]
  },
  {
   "cell_type": "markdown",
   "metadata": {},
   "source": [
    "### Trace des contraintes principales"
   ]
  },
  {
   "cell_type": "code",
   "execution_count": null,
   "metadata": {},
   "outputs": [],
   "source": [
    "fig, axes = plt.subplots(1, 2)\n",
    "\n",
    "# Plot div_x\n",
    "axes[0].imshow(img, origin='lower')\n",
    "cax1 = axes[0].contourf(X_pix, Y_pix, Sig_I)\n",
    "axes[0].set_title('$\\sigma_I$')\n",
    "fig.colorbar(cax1, ax=axes[0])\n",
    "\n",
    "# Plot div_y\n",
    "axes[1].imshow(img, origin='lower')\n",
    "cax2 = axes[1].contourf(X_pix, Y_pix, Sig_II)\n",
    "axes[1].set_title('$\\sigma_{II}$')\n",
    "fig.colorbar(cax2, ax=axes[1])\n",
    "\n",
    "plt.show()"
   ]
  },
  {
   "cell_type": "code",
   "execution_count": null,
   "metadata": {},
   "outputs": [],
   "source": [
    "fig, axes = plt.subplots(1, 1)\n",
    "\n",
    "# Plot div_x\n",
    "axes.imshow(img, origin='lower')\n",
    "cax1 = axes.contourf(X_pix, Y_pix, Sig_I)\n",
    "axes.quiver(X_pix, Y_pix, np.cos(Theta_I), np.sin(Theta_I),  pivot='mid', scale=1 / 0.05)\n",
    "axes.set_title('$\\sigma_I$')\n",
    "fig.colorbar(cax1, ax=axes)"
   ]
  },
  {
   "cell_type": "markdown",
   "metadata": {},
   "source": [
    "## Q8 : Calcul de la contrainte équivalente de von Mises\n",
    "- Calculer la contrainte équivalente de von Mises.\n",
    "\n",
    "- La limite d'élasticité du matériau est d’environ 250 MPa. Y a-t-il des zones de l'éprouvette qui sont critiques ?"
   ]
  },
  {
   "cell_type": "code",
   "execution_count": 29,
   "metadata": {},
   "outputs": [],
   "source": [
    "# TODO\n",
    "sig_eq = np.zeros_like(ux)"
   ]
  },
  {
   "cell_type": "markdown",
   "metadata": {},
   "source": [
    "### Trace de la contrainte equivalente de Von Mises"
   ]
  },
  {
   "cell_type": "code",
   "execution_count": null,
   "metadata": {},
   "outputs": [],
   "source": [
    "fig, axes = plt.subplots(1, 1)\n",
    "\n",
    "# Plot div_x\n",
    "axes.imshow(img, origin='lower')\n",
    "cax1 = axes.contourf(X_pix, Y_pix, sig_eq)\n",
    "axes.set_title('$\\sigma^{eq}$')\n",
    "fig.colorbar(cax1, ax=axes)"
   ]
  }
 ],
 "metadata": {
  "kernelspec": {
   "display_name": "base",
   "language": "python",
   "name": "python3"
  },
  "language_info": {
   "codemirror_mode": {
    "name": "ipython",
    "version": 3
   },
   "file_extension": ".py",
   "mimetype": "text/x-python",
   "name": "python",
   "nbconvert_exporter": "python",
   "pygments_lexer": "ipython3",
   "version": "undefined.undefined.undefined"
  }
 },
 "nbformat": 4,
 "nbformat_minor": 2
}
